{
  "nbformat": 4,
  "nbformat_minor": 0,
  "metadata": {
    "colab": {
      "provenance": []
    },
    "kernelspec": {
      "name": "python3",
      "display_name": "Python 3"
    },
    "language_info": {
      "name": "python"
    }
  },
  "cells": [
    {
      "cell_type": "code",
      "execution_count": 3,
      "metadata": {
        "colab": {
          "base_uri": "https://localhost:8080/"
        },
        "id": "r6dbs3m_P-yO",
        "outputId": "8ac8b299-5ab5-4a3c-c3c4-41d0a9c9df1d"
      },
      "outputs": [
        {
          "output_type": "stream",
          "name": "stdout",
          "text": [
            "Requirement already satisfied: requests in /usr/local/lib/python3.10/dist-packages (2.27.1)\n",
            "Requirement already satisfied: beautifulsoup4 in /usr/local/lib/python3.10/dist-packages (4.11.2)\n",
            "Requirement already satisfied: pandas in /usr/local/lib/python3.10/dist-packages (1.5.3)\n",
            "Requirement already satisfied: urllib3<1.27,>=1.21.1 in /usr/local/lib/python3.10/dist-packages (from requests) (1.26.16)\n",
            "Requirement already satisfied: certifi>=2017.4.17 in /usr/local/lib/python3.10/dist-packages (from requests) (2023.7.22)\n",
            "Requirement already satisfied: charset-normalizer~=2.0.0 in /usr/local/lib/python3.10/dist-packages (from requests) (2.0.12)\n",
            "Requirement already satisfied: idna<4,>=2.5 in /usr/local/lib/python3.10/dist-packages (from requests) (3.4)\n",
            "Requirement already satisfied: soupsieve>1.2 in /usr/local/lib/python3.10/dist-packages (from beautifulsoup4) (2.4.1)\n",
            "Requirement already satisfied: python-dateutil>=2.8.1 in /usr/local/lib/python3.10/dist-packages (from pandas) (2.8.2)\n",
            "Requirement already satisfied: pytz>=2020.1 in /usr/local/lib/python3.10/dist-packages (from pandas) (2022.7.1)\n",
            "Requirement already satisfied: numpy>=1.21.0 in /usr/local/lib/python3.10/dist-packages (from pandas) (1.22.4)\n",
            "Requirement already satisfied: six>=1.5 in /usr/local/lib/python3.10/dist-packages (from python-dateutil>=2.8.1->pandas) (1.16.0)\n"
          ]
        }
      ],
      "source": [
        "pip install requests beautifulsoup4 pandas"
      ]
    },
    {
      "cell_type": "code",
      "source": [
        "import requests\n",
        "from bs4 import BeautifulSoup\n",
        "\n",
        "def scrape_amazon_products(url, num_pages=20):\n",
        "    headers = {\n",
        "        \"User-Agent\": \"Mozilla/5.0 (Windows NT 10.0; Win64; x64) AppleWebKit/537.36 (KHTML, like Gecko) Chrome/58.0.3029.110 Safari/537.3\"}\n",
        "\n",
        "    all_products = []\n",
        "    for page in range(1, num_pages + 1):\n",
        "        page_url = url + f\"&page={page}\"\n",
        "        response = requests.get(page_url, headers=headers)\n",
        "\n",
        "        if response.status_code == 200:\n",
        "            soup = BeautifulSoup(response.content, \"html.parser\")\n",
        "            product_items = soup.find_all(\"div\", {\"data-component-type\": \"s-search-result\"})\n",
        "\n",
        "            for item in product_items:\n",
        "                product_url_element = item.find(\"a\", class_=\"a-link-normal\")\n",
        "                if product_url_element:\n",
        "                    product_url = \"https://www.amazon.in\" + product_url_element['href']\n",
        "                else:\n",
        "                    product_url = None\n",
        "\n",
        "                product_name_element = item.find(\"span\", class_=\"a-text-normal\")\n",
        "                product_name = product_name_element.text if product_name_element else None\n",
        "\n",
        "                product_price_element = item.find(\"span\", class_=\"a-price\")\n",
        "                product_price = product_price_element.find(\"span\", class_=\"a-offscreen\").text.strip() if product_price_element else None\n",
        "\n",
        "                product_rating_element = item.find(\"span\", class_=\"a-icon-alt\")\n",
        "                product_rating = product_rating_element.text.split()[0] if product_rating_element else None\n",
        "\n",
        "                product_num_reviews_element = item.find(\"span\", {\"data-component-type\": \"s-product-rating\"})\n",
        "                product_num_reviews = product_num_reviews_element.text.split()[0] if product_num_reviews_element else None\n",
        "\n",
        "                product_data = {\n",
        "                    \"Product URL\": product_url,\n",
        "                    \"Product Name\": product_name,\n",
        "                    \"Product Price\": product_price,\n",
        "                    \"Rating\": product_rating,\n",
        "                    \"Number of Reviews\": product_num_reviews\n",
        "                }\n",
        "                all_products.append(product_data)\n",
        "\n",
        "    return all_products\n"
      ],
      "metadata": {
        "id": "caq2gQgsQRPg"
      },
      "execution_count": 6,
      "outputs": []
    },
    {
      "cell_type": "code",
      "source": [
        "if __name__ == \"__main__\":\n",
        "    url = \"https://www.amazon.in/s?k=bags&crid=2M096C61O4MLT&qid=1653308124&sprefix=ba%2Caps%2C283&ref=sr_pg_1\"\n",
        "    scraped_data = scrape_amazon_products(url, num_pages=20)\n",
        "\n",
        "    for product in scraped_data:\n",
        "        print(product)"
      ],
      "metadata": {
        "colab": {
          "base_uri": "https://localhost:8080/"
        },
        "id": "Wx50BoucQS1w",
        "outputId": "0631b7f0-e80f-41e4-e579-e133e01f3c8c"
      },
      "execution_count": 7,
      "outputs": [
        {
          "output_type": "stream",
          "name": "stdout",
          "text": [
            "{'Product URL': 'https://www.amazon.in/Wesley-Milestone-Waterproof-Backpack-Business/dp/B084JGJ8PF/ref=ice_ac_b_dpb?crid=2M096C61O4MLT&keywords=bags&qid=1690392765&sprefix=ba%2Caps%2C283&sr=8-1', 'Product Name': 'Wesley Milestone 2.0 Casual Waterproof Laptop Backpack/Office Bag/School Bag/College Bag/Business Bag/Travel Backpack (Dimensions:13x18 inches) (Compatible with 39.62cm(15.6inch laptop) 30 L (Blue & black)', 'Product Price': '₹550', 'Rating': '4.3', 'Number of Reviews': None}\n",
            "{'Product URL': 'https://www.amazon.in/American-Tourister-AMT-SCH-02/dp/B07CJCGM1M/ref=sr_1_2?crid=2M096C61O4MLT&keywords=bags&qid=1690392765&sprefix=ba%2Caps%2C283&sr=8-2', 'Product Name': 'American Tourister Fizz Large Size 32 Ltrs Casual Backpack (BLACK)', 'Product Price': '₹1,199', 'Rating': '4.0', 'Number of Reviews': None}\n",
            "{'Product URL': 'https://www.amazon.in/gp/bestsellers/luggage/2917436031/ref=sr_bs_2_2917436031_1', 'Product Name': 'Skybags Brat Black 46 Cms Casual Backpack', 'Product Price': '₹669', 'Rating': '4.1', 'Number of Reviews': None}\n",
            "{'Product URL': 'https://www.amazon.in/Half-Moon-Waterproof-Backpack-Students/dp/B085MHDJ93/ref=sr_1_4?crid=2M096C61O4MLT&keywords=bags&qid=1690392765&sprefix=ba%2Caps%2C283&sr=8-4', 'Product Name': 'Half Moon 35 Ltrs Water Resistant 15.6 inch Laptop Bag for Men/Backpack for Men, Navy Blue | Office Bag for Men/Office Bag for Women with Padded Laptop Compartment | Rain Cover & Reflective Strips', 'Product Price': '₹649', 'Rating': '3.9', 'Number of Reviews': None}\n",
            "{'Product URL': 'https://www.amazon.in/Half-Moon-Backpack-Luggage-Compartment/dp/B09VCLZ3K4/ref=sr_1_5?crid=2M096C61O4MLT&keywords=bags&qid=1690392765&sprefix=ba%2Caps%2C283&sr=8-5', 'Product Name': 'Half Moon Large 37L Laptop Bag Backpack for menं Women Boys and Girls Luggage Travel Bags with 17.3 inches Laptop Compartment & Rain Cover', 'Product Price': '₹849', 'Rating': '3.9', 'Number of Reviews': None}\n",
            "{'Product URL': 'https://www.amazon.in/TRUE-HUMAN-Anti-Theft-backpack-charging/dp/B09QJ7ZF2Y/ref=sr_1_6?crid=2M096C61O4MLT&keywords=bags&qid=1690392765&sprefix=ba%2Caps%2C283&sr=8-6', 'Product Name': 'TRUE HUMAN EMPEROR® Anti-Theft backpack With USB charging Port Laptop bag/Office bag/college bag/travel bag with anti -theft back pocket (LEGEND)', 'Product Price': '₹689', 'Rating': '3.8', 'Number of Reviews': None}\n",
            "{'Product URL': 'https://www.amazon.in/Gear-Classic-Leather-Backpack-LBPCLSLTH0201/dp/B07G4F6XFH/ref=sr_1_7?crid=2M096C61O4MLT&keywords=bags&qid=1690392765&sprefix=ba%2Caps%2C283&sr=8-7', 'Product Name': 'Gear Classic 20L Faux Leather Water Resistant Anti Theft Laptop Bag/Backpack for Men/Women (Brown)', 'Product Price': '₹987', 'Rating': '4.4', 'Number of Reviews': None}\n",
            "{'Product URL': 'https://www.amazon.in/NORTH-ZONE-Waterproof-Backpack-Dimensions/dp/B0BS6QQZYN/ref=sr_1_8?crid=2M096C61O4MLT&keywords=bags&qid=1690392765&sprefix=ba%2Caps%2C283&sr=8-8', 'Product Name': 'NORTH ZONE Casual Waterproof Laptop Backpack/Office Bag/School Bag/College Bag/Business Bag/Travel Backpack (Dimensions:13x18 inches) (Compatible with 39.62cm(15.6inch laptop) 30 L', 'Product Price': '₹630', 'Rating': '4.0', 'Number of Reviews': None}\n",
            "{'Product URL': 'https://www.amazon.in/Gear-Black-Laptop-Backpack-LBPASPIRE0104/dp/B075MK4TXP/ref=sr_1_9?crid=2M096C61O4MLT&keywords=bags&qid=1690392765&sprefix=ba%2Caps%2C283&sr=8-9', 'Product Name': 'Gear Cello 30 Ltrs Black Laptop Backpack (LBPASPIRE0104)', 'Product Price': '₹1,125', 'Rating': '4.4', 'Number of Reviews': None}\n",
            "{'Product URL': 'https://www.amazon.in/Lunars-Bingo-Laptop-Resistant-48L/dp/B08YZ8FFBZ/ref=sr_1_10?crid=2M096C61O4MLT&keywords=bags&qid=1690392765&sprefix=ba%2Caps%2C283&sr=8-10', 'Product Name': \"Lunar's Bingo - 48 L Laptop Office/School/Travel/Business Backpack Water Resistant - Fits Up to 15.6 Inch Laptop Notebook with 1 Year Warranty\", 'Product Price': '₹899', 'Rating': '3.9', 'Number of Reviews': None}\n",
            "{'Product URL': 'https://www.amazon.in/gp/bestsellers/computers/1375464031/ref=sr_bs_10_1375464031_1', 'Product Name': 'American Tourister VALEX BLACK LAPTOP BACKPACK 28 Ltrs,Volume, LAPTOP COMPARTMENT, BOTTLE POCKET, FRONT ORGANIZER', 'Product Price': '₹1,299', 'Rating': '4.3', 'Number of Reviews': None}\n",
            "{'Product URL': 'https://www.amazon.in/WILDHORN-Backpack-Compartment-Business-Stitching/dp/B09QL66G55/ref=sr_1_12?crid=2M096C61O4MLT&keywords=bags&qid=1690392765&sprefix=ba%2Caps%2C283&sr=8-12', 'Product Name': 'WILDHORN 31L Laptop Backpack for Men/Women I Fits upto 15.6\" Laptop I Waterproof I Travel/Business/College Bookbags', 'Product Price': '₹599', 'Rating': '4.0', 'Number of Reviews': None}\n",
            "{'Product URL': 'https://www.amazon.in/Wesley-Spartan-Hiking-Raincover-Organiser/dp/B098QFF5TJ/ref=sr_1_13?crid=2M096C61O4MLT&keywords=bags&qid=1690392765&sprefix=ba%2Caps%2C283&sr=8-13', 'Product Name': 'Wesley Spartan Unisex Travel Hiking Laptop Bag fits Upto 17.3 inch with Raincover and Internal Organiser Backpack Rucksack College Bag', 'Product Price': '₹749', 'Rating': '4.1', 'Number of Reviews': None}\n",
            "{'Product URL': 'https://www.amazon.in/NORTH-ZONE-Lightweight-Backpacks-Stylish/dp/B0BL3TVDK6/ref=sr_1_14?crid=2M096C61O4MLT&keywords=bags&qid=1690392765&sprefix=ba%2Caps%2C283&sr=8-14', 'Product Name': 'Northzone Lightweight school bags Backpacks for Boys Girls Stylish men and women Casual Travel Laptop Bag College office (Black) 40L', 'Product Price': '₹549', 'Rating': '4.0', 'Number of Reviews': None}\n",
            "{'Product URL': 'https://www.amazon.in/GEAR-Black-Blue-Backpack-years/dp/B019HA8AYG/ref=sr_1_15?crid=2M096C61O4MLT&keywords=bags&qid=1690392765&sprefix=ba%2Caps%2C283&sr=8-15', 'Product Name': 'Gear CarryOn 16L Foldable Water Resistant School Bag//Backpack/College Bag for Men/Women - Blue Black', 'Product Price': '₹229', 'Rating': '3.7', 'Number of Reviews': None}\n",
            "{'Product URL': 'https://www.amazon.in/Wesley-Milestone-Waterproof-Backpack-Business/dp/B085S444JV/ref=sr_1_16?crid=2M096C61O4MLT&keywords=bags&qid=1690392765&sprefix=ba%2Caps%2C283&sr=8-16', 'Product Name': 'Wesley Milestone 2.0 Casual Waterproof Laptop Backpack/Office Bag/School Bag/College Bag/Business Bag/Travel Backpack (Dimensions:13x18 inches) (Compatible with 39.62cm(15.6inch laptop) 30 L, Charcoal black', 'Product Price': '₹550', 'Rating': '4.3', 'Number of Reviews': None}\n",
            "{'Product URL': 'https://www.amazon.in/POLESTAR-Vintage-Laptop-Backpack-bagpack/dp/B081GSQ9D9/ref=sr_1_33?crid=2M096C61O4MLT&keywords=bags&qid=1690392766&sprefix=ba%2Caps%2C283&sr=8-33', 'Product Name': 'POLESTAR Vintage 15.6 inch 32 LTR Casual Laptop Backpack/Office Bag/School Bag/College Bag/Business Bag/Unisex Backpack, Water Resistant and Light Weight, 1 year Warranty', 'Product Price': '₹549', 'Rating': '3.9', 'Number of Reviews': None}\n",
            "{'Product URL': 'https://www.amazon.in/Nivia-6853-Polyester-Basic-Duffle/dp/B07FWQ9HRV/ref=sr_1_34?crid=2M096C61O4MLT&keywords=bags&qid=1690392766&sprefix=ba%2Caps%2C283&sr=8-34', 'Product Name': 'NIVIA Basic Duffle Polyester Bag/Gym Bags/Adjustable Shoulder Bag for Men/Duffle Gym Bags for Men/Fitness Bag/Carry Bags/Sports & Travel Bag/Sports Kit/Duffle Bags Travel', 'Product Price': '₹269', 'Rating': '4.0', 'Number of Reviews': None}\n",
            "{'Product URL': 'https://www.amazon.in/ADISA-Laptop-Backpack-Office-College/dp/B0BPTV3795/ref=sr_1_35?crid=2M096C61O4MLT&keywords=bags&qid=1690392766&sprefix=ba%2Caps%2C283&sr=8-35', 'Product Name': 'ADISA 32L Large Laptop Backpack Office Bag College Travel Back Pack with rain Cover (Black)', 'Product Price': '₹646', 'Rating': '3.8', 'Number of Reviews': None}\n",
            "{'Product URL': 'https://www.amazon.in/Backpack-Small-Black-Water-Repellant/dp/B088XB5XY8/ref=sr_1_36?crid=2M096C61O4MLT&keywords=bags&qid=1690392766&sprefix=ba%2Caps%2C283&sr=8-36', 'Product Name': 'Mi Step Out 12 L Mini Backpack (Small Size, Black, Water Repellant)', 'Product Price': '₹389', 'Rating': '4.1', 'Number of Reviews': None}\n",
            "{'Product URL': 'https://www.amazon.in/ZIPLINE-Polyester-Backpack-Children-Daypack/dp/B07XVMR33Q/ref=sr_1_37?crid=2M096C61O4MLT&keywords=bags&qid=1690392766&sprefix=ba%2Caps%2C283&sr=8-37', 'Product Name': 'Zipline Unisex casual polyester 36 L Backpack School Bag Women Men Boys Girls children Daypack College Bag Book School Sports Bag Weekend Bag', 'Product Price': '₹843', 'Rating': '4.0', 'Number of Reviews': None}\n",
            "{'Product URL': 'https://www.amazon.in/Arctic-Fox-Backpack-Charging-Laptop/dp/B089QBD333/ref=sr_1_38?crid=2M096C61O4MLT&keywords=bags&qid=1690392766&sprefix=ba%2Caps%2C283&sr=8-38', 'Product Name': 'Arctic Fox Slope Anti Theft 23 L Backpack with USB Charging Port 15 Inch Laptop Backpack (Marble Black)', 'Product Price': '₹1,439', 'Rating': '4.5', 'Number of Reviews': None}\n",
            "{'Product URL': 'https://www.amazon.in/NORTH-ZONE-Lightweight-Backpacks-Stylish/dp/B0BL3SPN16/ref=sr_1_39?crid=2M096C61O4MLT&keywords=bags&qid=1690392766&sprefix=ba%2Caps%2C283&sr=8-39', 'Product Name': 'NORTH ZONE Lightweight school bags Backpacks for Boys Girls Stylish men and women Casual Travel Laptop Bag College office', 'Product Price': '₹630', 'Rating': '3.9', 'Number of Reviews': None}\n",
            "{'Product URL': 'https://www.amazon.in/STRABO-Cooper-Laptop-Bag-Capacity/dp/B0BX9SVT1D/ref=sr_1_40?crid=2M096C61O4MLT&keywords=bags&qid=1690392766&sprefix=ba%2Caps%2C283&sr=8-40', 'Product Name': 'STRABO Cooper for Boys Girls Stylish Men and Women Casual 15\" inch 25L CANVAS Laptop BACKPACK | Office, College, Travel Bag', 'Product Price': '₹699', 'Rating': '4.4', 'Number of Reviews': None}\n",
            "{'Product URL': 'https://www.amazon.in/ADISA-Casual-Backpack-College-BP046-NAV_Navy/dp/B0BX3QFVSM/ref=sr_1_41?crid=2M096C61O4MLT&keywords=bags&qid=1690392766&sprefix=ba%2Caps%2C283&sr=8-41', 'Product Name': 'ADISA 31 Ltrs Casual Backpack School College Bag Pack', 'Product Price': '₹399', 'Rating': '3.8', 'Number of Reviews': None}\n",
            "{'Product URL': 'https://www.amazon.in/ADISA-BP004-Weight-Casual-Backpack/dp/B07G3CG9FC/ref=sr_1_42?crid=2M096C61O4MLT&keywords=bags&qid=1690392766&sprefix=ba%2Caps%2C283&sr=8-42', 'Product Name': 'ADISA Laptop Backpack 31 Ltrs', 'Product Price': '₹499', 'Rating': '4.0', 'Number of Reviews': None}\n",
            "{'Product URL': 'https://www.amazon.in/ROZEN-partition-Collage-Backpack-SKYBLUE/dp/B0BRTFGG22/ref=sr_1_43?crid=2M096C61O4MLT&keywords=bags&qid=1690392766&sprefix=ba%2Caps%2C283&sr=8-43', 'Product Name': 'ROZEN 47 Ltrs, 46 cms School Bag Class 5-12 Large 5 partition Laptop Collage Office Travel Backpack Unisex', 'Product Price': '₹697', 'Rating': '4.1', 'Number of Reviews': None}\n",
            "{'Product URL': 'https://www.amazon.in/Bagneeds-Synthetic-Leather-Briefcase-Messenger/dp/B0855F8174/ref=sr_1_44?crid=2M096C61O4MLT&keywords=bags&qid=1690392766&sprefix=ba%2Caps%2C283&sr=8-44', 'Product Name': \"Bagneeds Men's Black Synthetic Leather Briefcase Best Laptop Messenger Bag Satchel for Men\", 'Product Price': '₹759', 'Rating': '4.1', 'Number of Reviews': None}\n",
            "{'Product URL': 'https://www.amazon.in/ADISA-Laptop-Backpack-Office-College/dp/B09TPX22NF/ref=sr_1_45?crid=2M096C61O4MLT&keywords=bags&qid=1690392766&sprefix=ba%2Caps%2C283&sr=8-45', 'Product Name': 'ADISA 15.6 inch Laptop Backpack Office Bag College Travel Back Pack 32 Ltrs (z-Navy Blue)', 'Product Price': '₹549', 'Rating': '3.9', 'Number of Reviews': None}\n",
            "{'Product URL': 'https://www.amazon.in/Safari-Laptop-Backpack-Resistant-Fabric/dp/B09B25Z8M2/ref=sr_1_46?crid=2M096C61O4MLT&keywords=bags&qid=1690392766&sprefix=ba%2Caps%2C283&sr=8-46', 'Product Name': 'Safari Quill Large Laptop Backpack 26 Ltrs Water Resistant Fabric - Black', 'Product Price': '₹899', 'Rating': '3.9', 'Number of Reviews': None}\n",
            "{'Product URL': 'https://www.amazon.in/ADISA-Laptop-Backpack-Office-College/dp/B0BPVLXD53/ref=sr_1_47?crid=2M096C61O4MLT&keywords=bags&qid=1690392766&sprefix=ba%2Caps%2C283&sr=8-47', 'Product Name': 'ADISA 32L Large Laptop Backpack Office Bag College Travel Back Pack with rain Cover (Grey)', 'Product Price': '₹699', 'Rating': '3.8', 'Number of Reviews': None}\n",
            "{'Product URL': 'https://www.amazon.in/ADISA-BP010-Weight-Casual-Backpack/dp/B07MXL986B/ref=sr_1_48?crid=2M096C61O4MLT&keywords=bags&qid=1690392766&sprefix=ba%2Caps%2C283&sr=8-48', 'Product Name': 'ADISA 32 Ltrs Water Resistant Casual Travel Bagpack/College Backpack/School Office Bag for Men and Women', 'Product Price': '₹499', 'Rating': '4.0', 'Number of Reviews': None}\n",
            "{'Product URL': 'https://www.amazon.in/LuvLap-Travel-Multifunctional-Waterproof-Bag-Backpack/dp/B07W6Z8XKB/ref=sr_1_305?crid=2M096C61O4MLT&keywords=bags&qid=1690392770&sprefix=ba%2Caps%2C283&sr=8-305', 'Product Name': 'LuvLap Lily Travel Multifunctional Waterproof Diaper Bag-Backpack Cum Tote Bag (Black)', 'Product Price': '₹1,135', 'Rating': '4.4', 'Number of Reviews': None}\n",
            "{'Product URL': 'https://www.amazon.in/Fur-Jaden-Charging-Waterproof-BM36_BlueZip/dp/B07MXM5M99/ref=sr_1_306?crid=2M096C61O4MLT&keywords=bags&qid=1690392770&sprefix=ba%2Caps%2C283&sr=8-306', 'Product Name': 'Fur Jaden 15.6 Inch Laptop Backpack 25 LTR Bag for School, College and Office with USB Charging Port', 'Product Price': '₹479', 'Rating': '3.9', 'Number of Reviews': None}\n"
          ]
        }
      ]
    },
    {
      "cell_type": "code",
      "source": [
        "import requests\n",
        "from bs4 import BeautifulSoup\n",
        "import csv\n",
        "\n",
        "def get_product_details(product_url):\n",
        "    headers = {\n",
        "        \"User-Agent\": \"Mozilla/5.0 (Windows NT 10.0; Win64; x64) AppleWebKit/537.36 (KHTML, like Gecko) Chrome/58.0.3029.110 Safari/537.3\"}\n",
        "\n",
        "    response = requests.get(product_url, headers=headers)\n",
        "    if response.status_code == 200:\n",
        "        soup = BeautifulSoup(response.content, \"html.parser\")\n",
        "\n",
        "        product_description_element = soup.find(\"div\", {\"id\": \"productDescription\"})\n",
        "        product_description = product_description_element.text.strip() if product_description_element else None\n",
        "\n",
        "        asin_element = soup.find(\"th\", text=\"ASIN\")\n",
        "        asin = asin_element.find_next(\"td\").text.strip() if asin_element else None\n",
        "\n",
        "        manufacturer_element = soup.find(\"a\", {\"id\": \"bylineInfo\"})\n",
        "        manufacturer = manufacturer_element.text.strip() if manufacturer_element else None\n",
        "\n",
        "        return product_description, asin, manufacturer\n",
        "    else:\n",
        "        return None, None, None"
      ],
      "metadata": {
        "id": "idk5lEUsQvA9"
      },
      "execution_count": 8,
      "outputs": []
    },
    {
      "cell_type": "code",
      "source": [
        "def scrape_amazon_products(url, num_pages=20):\n",
        "    headers = {\n",
        "        \"User-Agent\": \"Mozilla/5.0 (Windows NT 10.0; Win64; x64) AppleWebKit/537.36 (KHTML, like Gecko) Chrome/58.0.3029.110 Safari/537.3\"}\n",
        "\n",
        "    all_products = []\n",
        "    for page in range(1, num_pages + 1):\n",
        "        page_url = url + f\"&page={page}\"\n",
        "        response = requests.get(page_url, headers=headers)\n",
        "\n",
        "        if response.status_code == 200:\n",
        "            soup = BeautifulSoup(response.content, \"html.parser\")\n",
        "            product_items = soup.find_all(\"div\", {\"data-component-type\": \"s-search-result\"})\n",
        "\n",
        "            for item in product_items:\n",
        "                product_url_element = item.find(\"a\", class_=\"a-link-normal\")\n",
        "                if product_url_element:\n",
        "                    product_url = \"https://www.amazon.in\" + product_url_element['href']\n",
        "                else:\n",
        "                    product_url = None\n",
        "\n",
        "                product_name_element = item.find(\"span\", class_=\"a-text-normal\")\n",
        "                product_name = product_name_element.text if product_name_element else None\n",
        "\n",
        "                product_price_element = item.find(\"span\", class_=\"a-price\")\n",
        "                product_price = product_price_element.find(\"span\", class_=\"a-offscreen\").text.strip() if product_price_element else None\n",
        "\n",
        "                product_rating_element = item.find(\"span\", class_=\"a-icon-alt\")\n",
        "                product_rating = product_rating_element.text.split()[0] if product_rating_element else None\n",
        "\n",
        "                product_num_reviews_element = item.find(\"span\", {\"data-component-type\": \"s-product-rating\"})\n",
        "                product_num_reviews = product_num_reviews_element.text.split()[0] if product_num_reviews_element else None\n",
        "\n",
        "                product_description, asin, manufacturer = get_product_details(product_url)\n",
        "\n",
        "                product_data = {\n",
        "                    \"Product URL\": product_url,\n",
        "                    \"Product Name\": product_name,\n",
        "                    \"Product Price\": product_price,\n",
        "                    \"Rating\": product_rating,\n",
        "                    \"Number of Reviews\": product_num_reviews,\n",
        "                    \"Description\": product_description,\n",
        "                    \"ASIN\": asin,\n",
        "                    \"Manufacturer\": manufacturer\n",
        "                }\n",
        "                all_products.append(product_data)\n",
        "\n",
        "    return all_products\n"
      ],
      "metadata": {
        "id": "HMSIVSyWRHYZ"
      },
      "execution_count": 9,
      "outputs": []
    },
    {
      "cell_type": "code",
      "source": [
        "def export_to_csv(data, file_path):\n",
        "    with open(file_path, \"w\", newline=\"\", encoding=\"utf-8\") as csvfile:\n",
        "        fieldnames = [\"Product URL\", \"Product Name\", \"Product Price\", \"Rating\", \"Number of Reviews\", \"Description\", \"ASIN\", \"Manufacturer\"]\n",
        "        writer = csv.DictWriter(csvfile, fieldnames=fieldnames)\n",
        "        writer.writeheader()\n",
        "        for product in data:\n",
        "            writer.writerow(product)"
      ],
      "metadata": {
        "id": "cJpttPeFRNQA"
      },
      "execution_count": 10,
      "outputs": []
    },
    {
      "cell_type": "code",
      "source": [
        "if __name__ == \"__main__\":\n",
        "    url = \"https://www.amazon.in/s?k=bags&crid=2M096C61O4MLT&qid=1653308124&sprefix=ba%2Caps%2C283&ref=sr_pg_1\"\n",
        "    scraped_data = scrape_amazon_products(url, num_pages=20)\n",
        "\n",
        "    # Limiting the number of URLs to hit for demonstration purposes\n",
        "    max_urls_to_hit = 200\n",
        "    scraped_data = scraped_data[:max_urls_to_hit]\n",
        "\n",
        "    export_to_csv(scraped_data, \"amazon_product_data.csv\")"
      ],
      "metadata": {
        "colab": {
          "base_uri": "https://localhost:8080/"
        },
        "id": "WJkPElACRSCs",
        "outputId": "35798ba5-d3e3-4112-9b84-eb3c6b6e6001"
      },
      "execution_count": 11,
      "outputs": [
        {
          "output_type": "stream",
          "name": "stderr",
          "text": [
            "<ipython-input-8-d05ec672d558>:16: DeprecationWarning: The 'text' argument to find()-type methods is deprecated. Use 'string' instead.\n",
            "  asin_element = soup.find(\"th\", text=\"ASIN\")\n"
          ]
        }
      ]
    },
    {
      "cell_type": "markdown",
      "source": [
        "# New Section"
      ],
      "metadata": {
        "id": "H25z7t71Rj8C"
      }
    }
  ]
}